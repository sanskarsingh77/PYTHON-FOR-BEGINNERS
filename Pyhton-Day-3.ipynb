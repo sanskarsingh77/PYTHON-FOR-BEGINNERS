{
 "cells": [
  {
   "cell_type": "code",
   "execution_count": 2,
   "id": "e9b0deef",
   "metadata": {},
   "outputs": [
    {
     "name": "stdout",
     "output_type": "stream",
     "text": [
      "enter a number:7\n",
      "7 is positive\n"
     ]
    }
   ],
   "source": [
    "# conditional statements:\n",
    "# program to check number is positive or negative\n",
    "x=int(input(\"enter a number:\"))\n",
    "if x>0:\n",
    "    print(x,\"is positive\")\n",
    "#if ke baad agar ek space bhib hoga to bhi koi problem nhi hogi\n",
    "elif x<0:\n",
    "    print(x,\"is negative\")\n",
    "else:\n",
    "    print(x,\"is neither negative nor positive\")\n",
    "    "
   ]
  },
  {
   "cell_type": "code",
   "execution_count": null,
   "id": "91a37f1d",
   "metadata": {},
   "outputs": [],
   "source": [
    "# in pyhton increment and decrement operator(x++,x--) are not their\n"
   ]
  },
  {
   "cell_type": "code",
   "execution_count": 13,
   "id": "c5a91271",
   "metadata": {},
   "outputs": [
    {
     "name": "stdout",
     "output_type": "stream",
     "text": [
      "enter first number:78\n",
      "enter second number:65\n",
      "78 is maximum\n"
     ]
    }
   ],
   "source": [
    "# wap to find max of two numbers\n",
    "x=int(input(\"enter first number:\"))\n",
    "y=int(input(\"enter second number:\"))\n",
    "if x>y:\n",
    "    print(x,\"is maximum\")\n",
    "elif x<y:\n",
    "    print(y,\"is maximum\")\n",
    "else:\n",
    "    print(\"both numbers are equal\")"
   ]
  },
  {
   "cell_type": "code",
   "execution_count": null,
   "id": "1d8b29e0",
   "metadata": {},
   "outputs": [],
   "source": []
  }
 ],
 "metadata": {
  "kernelspec": {
   "display_name": "Python 3 (ipykernel)",
   "language": "python",
   "name": "python3"
  },
  "language_info": {
   "codemirror_mode": {
    "name": "ipython",
    "version": 3
   },
   "file_extension": ".py",
   "mimetype": "text/x-python",
   "name": "python",
   "nbconvert_exporter": "python",
   "pygments_lexer": "ipython3",
   "version": "3.11.5"
  }
 },
 "nbformat": 4,
 "nbformat_minor": 5
}
