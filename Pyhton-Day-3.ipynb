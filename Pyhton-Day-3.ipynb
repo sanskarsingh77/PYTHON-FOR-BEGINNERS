{
 "cells": [
  {
   "cell_type": "code",
   "execution_count": 2,
   "id": "e97dae26",
   "metadata": {},
   "outputs": [
    {
     "name": "stdout",
     "output_type": "stream",
     "text": [
      "enter a number:7\n",
      "7 is positive\n"
     ]
    }
   ],
   "source": [
    "# conditional statements:\n",
    "# program to check number is positive or negative\n",
    "x=int(input(\"enter a number:\"))\n",
    "if x>0:\n",
    "    print(x,\"is positive\")\n",
    "#if ke baad agar ek space bhib hoga to bhi koi problem nhi hogi\n",
    "elif x<0:\n",
    "    print(x,\"is negative\")\n",
    "else:\n",
    "    print(x,\"is neither negative nor positive\")\n",
    "    "
   ]
  },
  {
   "cell_type": "code",
   "execution_count": null,
   "id": "ff2eefc6",
   "metadata": {},
   "outputs": [],
   "source": [
    "# in pyhton increment and decrement operator(x++,x--) are not their\n"
   ]
  },
  {
   "cell_type": "code",
   "execution_count": 13,
   "id": "b46d629f",
   "metadata": {},
   "outputs": [
    {
     "name": "stdout",
     "output_type": "stream",
     "text": [
      "enter first number:78\n",
      "enter second number:65\n",
      "78 is maximum\n"
     ]
    }
   ],
   "source": [
    "# wap to find max of two numbers\n",
    "x=int(input(\"enter first number:\"))\n",
    "y=int(input(\"enter second number:\"))\n",
    "if x>y:\n",
    "    print(x,\"is maximum\")\n",
    "elif x<y:\n",
    "    print(y,\"is maximum\")\n",
    "else:\n",
    "    print(\"both numbers are equal\")"
   ]
  },
  {
   "cell_type": "code",
   "execution_count": 20,
   "id": "d8ff555b",
   "metadata": {},
   "outputs": [
    {
     "name": "stdout",
     "output_type": "stream",
     "text": [
      "hello\n",
      "hello\n",
      "hello\n",
      "hello\n",
      "hello\n",
      "hello\n",
      "hello\n",
      "hello\n",
      "hello\n",
      "hello\n",
      "hello\n"
     ]
    }
   ],
   "source": [
    "#  iterartions loops\n",
    "# for loop \n",
    "for i in range(5):\n",
    "    print(\"hello\")\n",
    "    \n",
    "# range can be written in 3 methods\n",
    "# range(stop)\n",
    "# range(start,stop)\n",
    "# range(start,stop,step)\n",
    "for i in range(5,7):\n",
    "    print(\"hello\")\n",
    "    \n",
    "for i in range(5,15,3):\n",
    "    print(\"hello\")"
   ]
  },
  {
   "cell_type": "code",
   "execution_count": 2,
   "id": "323722d3",
   "metadata": {},
   "outputs": [
    {
     "name": "stdout",
     "output_type": "stream",
     "text": [
      "hello ji\n",
      "hello ji\n",
      "hello ji\n",
      "hello ji\n",
      "hello ji\n"
     ]
    }
   ],
   "source": [
    "x=[5,4,6,8,9]\n",
    "for i in x:\n",
    "    print(\"hello ji\")\n",
    "# agar hum jaha x likha hai vaha koi number likh dete eg :5 then error ajata kyoki int is not iterable object\n",
    "\n",
    "    "
   ]
  },
  {
   "cell_type": "code",
   "execution_count": 11,
   "id": "6ca0878b",
   "metadata": {},
   "outputs": [
    {
     "name": "stdout",
     "output_type": "stream",
     "text": [
      "r\n",
      "\n",
      "a\n",
      "\n",
      "j\n",
      "\n",
      "u\n",
      "\n",
      "r\n",
      "a\n",
      "j\n",
      "u\n",
      "raju"
     ]
    }
   ],
   "source": [
    "y=\"raju\"\n",
    "for i in y:\n",
    "        print(i,end='\\n\\n')\n",
    "for i in y:\n",
    "        print(i)\n",
    "for i in y:\n",
    "        print(i,end='')\n",
    "        \n",
    "        \n",
    "# print hamesha next line me print krta hai agar next line me print nhi krna to end=''aur comma ke andar jitne \\n laga doge utna gap mil jayega print hone ke baad \n"
   ]
  },
  {
   "cell_type": "code",
   "execution_count": 13,
   "id": "097f9d16",
   "metadata": {},
   "outputs": [
    {
     "name": "stdout",
     "output_type": "stream",
     "text": [
      "rani\n",
      "rani\n",
      "rani\n",
      "rani\n"
     ]
    }
   ],
   "source": [
    "for i in \"raja\":\n",
    "    print(\"rani\")\n",
    "# jabtak i me content jayega tabtak print hoga loop chalega pehlr r jayega rani print hoga phir a jayega rani print hoga j jayega rani print hoga a jayega rani print hoga\n"
   ]
  },
  {
   "cell_type": "code",
   "execution_count": 2,
   "id": "f2108452",
   "metadata": {},
   "outputs": [
    {
     "name": "stdout",
     "output_type": "stream",
     "text": [
      "enter any number15\n",
      "acha hai\n",
      "acha hai\n",
      "acha hai\n",
      "acha hai\n",
      "acha hai\n"
     ]
    }
   ],
   "source": [
    "# while loop it is conditional\n",
    "x=int(input(\"enter any number\"))\n",
    "while x>10:\n",
    "    print(\"acha hai\")\n",
    "    x=x-1"
   ]
  },
  {
   "cell_type": "code",
   "execution_count": 6,
   "id": "0bcee54c",
   "metadata": {},
   "outputs": [
    {
     "name": "stdout",
     "output_type": "stream",
     "text": [
      "enter first number:5\n",
      "enter second number:55\n",
      "enter third number:555\n",
      "555 is greatest\n"
     ]
    }
   ],
   "source": [
    "# wap to find maximum of three numbers\\\n",
    "x=int(input(\"enter first number:\"))\n",
    "y=int(input(\"enter second number:\"))\n",
    "z=int(input(\"enter third number:\"))\n",
    "\n",
    "if x>y and x>z:\n",
    "    print(x,\"is greatest\")\n",
    "elif y>x and y>z:\n",
    "    print(y,\"is greatest\")\n",
    "else:\n",
    "    print(z,\"is greatest\") "
   ]
  },
  {
   "cell_type": "code",
   "execution_count": 5,
   "id": "4a424e18",
   "metadata": {},
   "outputs": [
    {
     "name": "stdout",
     "output_type": "stream",
     "text": [
      "1\n",
      "2\n",
      "55\n",
      "66\n",
      "77\n",
      "88\n"
     ]
    }
   ],
   "source": [
    "# print elements of the list using while loop\n",
    "k1=[1,2,55,66,77,88]\n",
    "x=0\n",
    "while x<len(k1):\n",
    "    print(k1[x])\n",
    "    x=x+1\n",
    "# k1[0]\n",
    "# k1[1]\n",
    "# k1[2]\n",
    "# k1[3]\n",
    "# k1[4]\n",
    "# k1[5]\n",
    "# yeh sab ki value print ho gayi hai"
   ]
  },
  {
   "cell_type": "code",
   "execution_count": 12,
   "id": "be268e6c",
   "metadata": {},
   "outputs": [
    {
     "name": "stdout",
     "output_type": "stream",
     "text": [
      "enter an number5\n",
      "enter an number7\n",
      "x=5  y=7\n",
      "after swapping\n",
      "x=7  y=5\n"
     ]
    }
   ],
   "source": [
    "# swaping of two numbers\n",
    "x=int(input(\"enter first number\"))\n",
    "y=int(input(\"enter second number\"))\n",
    "print(\"x=\",x,\"  y=\",y,sep='')\n",
    "temp=x\n",
    "x=y\n",
    "y=temp\n",
    "print(\"after swapping\")\n",
    "print(\"x=\",x,\"  y=\",y,sep='')\n"
   ]
  }
 ],
 "metadata": {
  "kernelspec": {
   "display_name": "Python 3 (ipykernel)",
   "language": "python",
   "name": "python3"
  },
  "language_info": {
   "codemirror_mode": {
    "name": "ipython",
    "version": 3
   },
   "file_extension": ".py",
   "mimetype": "text/x-python",
   "name": "python",
   "nbconvert_exporter": "python",
   "pygments_lexer": "ipython3",
   "version": "3.11.5"
  }
 },
 "nbformat": 4,
 "nbformat_minor": 5
}
