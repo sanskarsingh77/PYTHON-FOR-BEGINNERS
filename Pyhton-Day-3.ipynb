{
 "cells": [
  {
   "cell_type": "code",
   "execution_count": 2,
   "id": "bbae24f6",
   "metadata": {},
   "outputs": [
    {
     "name": "stdout",
     "output_type": "stream",
     "text": [
      "enter a number:7\n",
      "7 is positive\n"
     ]
    }
   ],
   "source": [
    "# conditional statements:\n",
    "# program to check number is positive or negative\n",
    "x=int(input(\"enter a number:\"))\n",
    "if x>0:\n",
    "    print(x,\"is positive\")\n",
    "#if ke baad agar ek space bhib hoga to bhi koi problem nhi hogi\n",
    "elif x<0:\n",
    "    print(x,\"is negative\")\n",
    "else:\n",
    "    print(x,\"is neither negative nor positive\")\n",
    "    "
   ]
  },
  {
   "cell_type": "code",
   "execution_count": null,
   "id": "e763f4e8",
   "metadata": {},
   "outputs": [],
   "source": [
    "# in pyhton increment and decrement operator(x++,x--) are not their\n"
   ]
  },
  {
   "cell_type": "code",
   "execution_count": null,
   "id": "129fcae0",
   "metadata": {},
   "outputs": [],
   "source": []
  }
 ],
 "metadata": {
  "kernelspec": {
   "display_name": "Python 3 (ipykernel)",
   "language": "python",
   "name": "python3"
  },
  "language_info": {
   "codemirror_mode": {
    "name": "ipython",
    "version": 3
   },
   "file_extension": ".py",
   "mimetype": "text/x-python",
   "name": "python",
   "nbconvert_exporter": "python",
   "pygments_lexer": "ipython3",
   "version": "3.11.5"
  }
 },
 "nbformat": 4,
 "nbformat_minor": 5
}
