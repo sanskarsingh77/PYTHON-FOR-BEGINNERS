{
 "cells": [
  {
   "cell_type": "code",
   "execution_count": 1,
   "id": "275c7931",
   "metadata": {
    "scrolled": true
   },
   "outputs": [
    {
     "name": "stdout",
     "output_type": "stream",
     "text": [
      "jai shree ram\n"
     ]
    }
   ],
   "source": [
    "print(\"jai shree ram\")"
   ]
  },
  {
   "cell_type": "code",
   "execution_count": 3,
   "id": "d744b5f5",
   "metadata": {},
   "outputs": [
    {
     "name": "stdout",
     "output_type": "stream",
     "text": [
      "jai\n",
      " shree\n",
      " ram\n"
     ]
    }
   ],
   "source": [
    "print(\"jai\\n shree\\n ram\")"
   ]
  },
  {
   "cell_type": "code",
   "execution_count": 5,
   "id": "e886dad7",
   "metadata": {},
   "outputs": [
    {
     "name": "stdout",
     "output_type": "stream",
     "text": [
      "<class 'complex'>\n",
      "<class 'int'>\n",
      "<class 'float'>\n",
      "<class 'str'>\n"
     ]
    }
   ],
   "source": [
    "x=5\n",
    "y=7.1\n",
    "z=\"y\"\n",
    "v=5+2j\n",
    "w=8+5j\n",
    "print(type(v+w))\n",
    "# j ki jagah agar i kr doge to nhi work krega complex ki tarah\n",
    "print(type(x))\n",
    "print(type(y))\n",
    "print(type(z))\n",
    "# type se we can find datatype of any thing like string int,float etc"
   ]
  },
  {
   "cell_type": "code",
   "execution_count": 8,
   "id": "b44fdde8",
   "metadata": {
    "scrolled": true
   },
   "outputs": [
    {
     "name": "stdout",
     "output_type": "stream",
     "text": [
      "['False', 'None', 'True', 'and', 'as', 'assert', 'async', 'await', 'break', 'class', 'continue', 'def', 'del', 'elif', 'else', 'except', 'finally', 'for', 'from', 'global', 'if', 'import', 'in', 'is', 'lambda', 'nonlocal', 'not', 'or', 'pass', 'raise', 'return', 'try', 'while', 'with', 'yield']\n",
      "35\n"
     ]
    }
   ],
   "source": [
    "import keyword\n",
    "print(keyword.kwlist)\n",
    "\n",
    "print(len(keyword.kwlist))\n",
    "#when we have to count the length of anything of count the amount/number of anything we sue len(jiski length chahiye)\n"
   ]
  },
  {
   "cell_type": "code",
   "execution_count": 10,
   "id": "df32dfc6",
   "metadata": {},
   "outputs": [
    {
     "name": "stdout",
     "output_type": "stream",
     "text": [
      "<class 'int'>\n",
      "<class 'float'>\n",
      "123.0\n"
     ]
    }
   ],
   "source": [
    "# type cast ek datatype se durse datatype me convet krna \n",
    "x=\"123\"\n",
    "y=int(x)\n",
    "z=float(x)\n",
    "print(type(y))\n",
    "print(type(z))\n",
    "print(z)\n"
   ]
  },
  {
   "cell_type": "code",
   "execution_count": 11,
   "id": "39b59f6f",
   "metadata": {},
   "outputs": [
    {
     "name": "stdout",
     "output_type": "stream",
     "text": [
      "24\n",
      "12\n"
     ]
    }
   ],
   "source": [
    "import math\n",
    "x=math.factorial(4)\n",
    "print(x)\n",
    "y=math.lcm(4,6)\n",
    "print(y)"
   ]
  },
  {
   "cell_type": "code",
   "execution_count": null,
   "id": "6bc428c8",
   "metadata": {},
   "outputs": [],
   "source": []
  }
 ],
 "metadata": {
  "kernelspec": {
   "display_name": "Python 3 (ipykernel)",
   "language": "python",
   "name": "python3"
  },
  "language_info": {
   "codemirror_mode": {
    "name": "ipython",
    "version": 3
   },
   "file_extension": ".py",
   "mimetype": "text/x-python",
   "name": "python",
   "nbconvert_exporter": "python",
   "pygments_lexer": "ipython3",
   "version": "3.11.5"
  }
 },
 "nbformat": 4,
 "nbformat_minor": 5
}
