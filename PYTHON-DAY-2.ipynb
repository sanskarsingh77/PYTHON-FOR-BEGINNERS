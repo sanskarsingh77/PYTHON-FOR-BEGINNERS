{
 "cells": [
  {
   "cell_type": "code",
   "execution_count": 4,
   "id": "7d13dc4f",
   "metadata": {},
   "outputs": [
    {
     "name": "stdout",
     "output_type": "stream",
     "text": [
      "5\n"
     ]
    }
   ],
   "source": [
    "'''x=5\n",
    " print(x)'''\n",
    "#indentation is very important in python\n",
    "x=5\n",
    "print(x)"
   ]
  },
  {
   "cell_type": "code",
   "execution_count": 7,
   "id": "efddefa2",
   "metadata": {},
   "outputs": [
    {
     "name": "stdout",
     "output_type": "stream",
     "text": [
      "enter first number\n",
      "55\n",
      "enter second number\n",
      "77\n",
      "55 77\n",
      "55  77\n",
      "55k77\n"
     ]
    }
   ],
   "source": [
    "print(\"enter first number\")\n",
    "x=input()\n",
    "print(\"enter second number\")\n",
    "y=input()\n",
    "print(x,y)\n",
    "# , works as a seprator by default it has one space in it that why in output there  is oen space \n",
    "print(x,y,sep='  ') \n",
    "# you can set how much space you want  using sep \n",
    "print(x,y,sep='k')\n"
   ]
  },
  {
   "cell_type": "code",
   "execution_count": 13,
   "id": "f31f9567",
   "metadata": {},
   "outputs": [
    {
     "name": "stdout",
     "output_type": "stream",
     "text": [
      "enter first number:1\n",
      "<class 'str'>\n",
      "enter second number:1\n",
      "<class 'str'>\n",
      "11\n"
     ]
    }
   ],
   "source": [
    "x=input(\"enter first number:\")\n",
    "print(type(x))\n",
    "y=input(\"enter second number:\")\n",
    "print(type(y))\n",
    "print(x+y)\n"
   ]
  },
  {
   "cell_type": "code",
   "execution_count": 16,
   "id": "d6c43723",
   "metadata": {},
   "outputs": [
    {
     "name": "stdout",
     "output_type": "stream",
     "text": [
      "enter first number:10\n",
      "enter second number:20\n",
      "addition is: 30\n"
     ]
    }
   ],
   "source": [
    "x=input(\"enter first number:\")\n",
    "a=int(x)\n",
    "\n",
    "y=input(\"enter second number:\")\n",
    "b=int(y)\n",
    "c=a+b\n",
    "print(\"addition is:\",c)\n",
    "# do alag datatype ko , se seprate krna hota hai"
   ]
  },
  {
   "cell_type": "code",
   "execution_count": 18,
   "id": "03e904bd",
   "metadata": {},
   "outputs": [
    {
     "name": "stdout",
     "output_type": "stream",
     "text": [
      "enter first element:25\n",
      "enter second element:25\n",
      "addition is: 50\n"
     ]
    }
   ],
   "source": [
    "# program for addition of two numbers\n",
    "x=int(input(\"enter first element:\"))\n",
    "y=int(input(\"enter second element:\"))\n",
    "print(\"addition is:\",x+y)"
   ]
  },
  {
   "cell_type": "code",
   "execution_count": 2,
   "id": "7fa8e875",
   "metadata": {},
   "outputs": [
    {
     "name": "stdout",
     "output_type": "stream",
     "text": [
      "enetr the radius of circle:2\n",
      "area of circle is: 12.56\n"
     ]
    }
   ],
   "source": [
    "# program for calcultaing area of circle \n",
    "r=float(input(\"enetr the radius of circle:\"))\n",
    "pi=3.14\n",
    "area=pi*r*r\n",
    "print(\"area of circle is:\",area)"
   ]
  },
  {
   "cell_type": "code",
   "execution_count": null,
   "id": "93824628",
   "metadata": {},
   "outputs": [],
   "source": []
  }
 ],
 "metadata": {
  "kernelspec": {
   "display_name": "Python 3 (ipykernel)",
   "language": "python",
   "name": "python3"
  },
  "language_info": {
   "codemirror_mode": {
    "name": "ipython",
    "version": 3
   },
   "file_extension": ".py",
   "mimetype": "text/x-python",
   "name": "python",
   "nbconvert_exporter": "python",
   "pygments_lexer": "ipython3",
   "version": "3.11.5"
  }
 },
 "nbformat": 4,
 "nbformat_minor": 5
}
