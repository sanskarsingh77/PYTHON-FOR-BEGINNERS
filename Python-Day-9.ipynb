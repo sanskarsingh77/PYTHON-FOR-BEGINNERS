{
 "cells": [
  {
   "cell_type": "code",
   "execution_count": null,
   "id": "3d83038d",
   "metadata": {},
   "outputs": [
    {
     "name": "stdout",
     "output_type": "stream",
     "text": [
      "enter amount:11000\n",
      "inssufficient error\n",
      "current balance is 10000\n",
      "bohot kharacha kr diya\n",
      "enter amount:5000\n",
      "money sent\n",
      "current balance is: 5000\n",
      "bohot kharacha kr diya\n",
      "enter amount:400\n",
      "money sent\n",
      "current balance is: 4600\n",
      "bohot kharacha kr diya\n",
      "enter amount:3330\n",
      "money sent\n",
      "current balance is: 1270\n",
      "bohot kharacha kr diya\n",
      "enter amount:1000\n",
      "money sent\n",
      "current balance is: 270\n",
      "bohot kharacha kr diya\n",
      "enter amount:300\n",
      "inssufficient error\n",
      "current balance is 270\n",
      "bohot kharacha kr diya\n"
     ]
    }
   ],
   "source": [
    "cb=10000\n",
    "# cb means currrent_balance wb means withdraw balance\n",
    "while True:\n",
    "    wb=int(input(\"enter amount:\"))\n",
    "    try:\n",
    "        if(cb<wb):\n",
    "    #         cb<wb means  that your current balance is less than your  withdraw balance so it will give error so you can rasise errror here\n",
    "           raise ValueError()\n",
    "        else:\n",
    "            cb=cb-wb\n",
    "            print(\"money sent\")\n",
    "            print(\"current balance is:\",cb)\n",
    "    except ValueError:\n",
    "        print(\"inssufficient error\")\n",
    "        print(\"current balance is\",cb)\n",
    "    finally:\n",
    "        print(\"bohot kharacha kr diya\")\n",
    "#         finally ke andar ka code hamesha  chalega hi finally tab use krte hai jab code terminate hone vala ho ke terminate hote hote yeh to kr kr hi jayega\n",
    "        "
   ]
  },
  {
   "cell_type": "code",
   "execution_count": null,
   "id": "f08e3a92",
   "metadata": {},
   "outputs": [],
   "source": [
    "# file handling\n",
    " "
   ]
  }
 ],
 "metadata": {
  "kernelspec": {
   "display_name": "Python 3 (ipykernel)",
   "language": "python",
   "name": "python3"
  },
  "language_info": {
   "codemirror_mode": {
    "name": "ipython",
    "version": 3
   },
   "file_extension": ".py",
   "mimetype": "text/x-python",
   "name": "python",
   "nbconvert_exporter": "python",
   "pygments_lexer": "ipython3",
   "version": "3.11.5"
  }
 },
 "nbformat": 4,
 "nbformat_minor": 5
}
