{
 "cells": [
  {
   "cell_type": "code",
   "execution_count": 5,
   "id": "0b1f8a99",
   "metadata": {},
   "outputs": [
    {
     "name": "stdout",
     "output_type": "stream",
     "text": [
      "enter a pin:1234\n",
      "correct pin\n",
      "enter a amount to withdraw:1000\n",
      "transcation is in process\n"
     ]
    }
   ],
   "source": [
    "# while if use hua hai yaha for if bhi hota hai python me\n",
    "p=1234\n",
    "c=0\n",
    "amount=0\n",
    "while(c!=3):\n",
    "    c=c+1\n",
    "    pin=int(input(\"enter a pin:\"))\n",
    "    if(pin==p):\n",
    "        print(\"correct pin\")\n",
    "        int(input(\"enter a amount to withdraw:\"))\n",
    "        if(amount<10000):\n",
    "            print(\"transcation is in process\")\n",
    "        else:\n",
    "            print(\"maximum limit reached\")\n",
    "        break\n",
    "    else:\n",
    "        print(\"incorrect pin\")\n",
    "else:\n",
    "    print(\"card blocked\")"
   ]
  },
  {
   "cell_type": "code",
   "execution_count": 9,
   "id": "61bd2001",
   "metadata": {},
   "outputs": [
    {
     "name": "stdout",
     "output_type": "stream",
     "text": [
      "{'1': 'boss', '2': 'jatin', '3': 'viru'}\n",
      "{'one': 'aryan', 'two': 'ajay', 'three': 'raj', 'four': 'jai'}\n"
     ]
    }
   ],
   "source": [
    "d={\"1\":\"boss\",\"2\":\"jatin\",\"3\":\"viru\"}\n",
    "print(d)\n",
    "d1=dict(one=\"aryan\",two=\"ajay\",three=\"raj\",four=\"jai\")\n",
    "# key me hamesha string hona chahiye agar dictionary dict functionn use krke banna rhe hoto key me double quotes bhi  nhi lagana cmpiler khud hi laga deta hai\n",
    "\n",
    "print(d1)"
   ]
  }
 ],
 "metadata": {
  "kernelspec": {
   "display_name": "Python 3 (ipykernel)",
   "language": "python",
   "name": "python3"
  },
  "language_info": {
   "codemirror_mode": {
    "name": "ipython",
    "version": 3
   },
   "file_extension": ".py",
   "mimetype": "text/x-python",
   "name": "python",
   "nbconvert_exporter": "python",
   "pygments_lexer": "ipython3",
   "version": "3.11.5"
  }
 },
 "nbformat": 4,
 "nbformat_minor": 5
}
