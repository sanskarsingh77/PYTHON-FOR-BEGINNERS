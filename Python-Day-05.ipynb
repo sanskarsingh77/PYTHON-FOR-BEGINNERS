{
 "cells": [
  {
   "cell_type": "code",
   "execution_count": 5,
   "id": "92149ecf",
   "metadata": {},
   "outputs": [
    {
     "name": "stdout",
     "output_type": "stream",
     "text": [
      "enter a pin:1234\n",
      "correct pin\n",
      "enter a amount to withdraw:1000\n",
      "transcation is in process\n"
     ]
    }
   ],
   "source": [
    "# while if use hua hai yaha for if bhi hota hai python me\n",
    "p=1234\n",
    "c=0\n",
    "amount=0\n",
    "while(c!=3):\n",
    "    c=c+1\n",
    "    pin=int(input(\"enter a pin:\"))\n",
    "    if(pin==p):\n",
    "        print(\"correct pin\")\n",
    "        int(input(\"enter a amount to withdraw:\"))\n",
    "        if(amount<10000):\n",
    "            print(\"transcation is in process\")\n",
    "        else:\n",
    "            print(\"maximum limit reached\")\n",
    "        break\n",
    "    else:\n",
    "        print(\"incorrect pin\")\n",
    "else:\n",
    "    print(\"card blocked\")"
   ]
  },
  {
   "cell_type": "code",
   "execution_count": 9,
   "id": "3601dbf3",
   "metadata": {},
   "outputs": [
    {
     "name": "stdout",
     "output_type": "stream",
     "text": [
      "{'1': 'boss', '2': 'jatin', '3': 'viru'}\n",
      "{'one': 'aryan', 'two': 'ajay', 'three': 'raj', 'four': 'jai'}\n"
     ]
    }
   ],
   "source": [
    "d={\"1\":\"boss\",\"2\":\"jatin\",\"3\":\"viru\"}\n",
    "print(d)\n",
    "d1=dict(one=\"aryan\",two=\"ajay\",three=\"raj\",four=\"jai\")\n",
    "# key me hamesha string hona chahiye agar dictionary dict functionn use krke banna rhe hoto key me double quotes bhi  nhi lagana cmpiler khud hi laga deta hai\n",
    "\n",
    "print(d1)"
   ]
  },
  {
   "cell_type": "code",
   "execution_count": 4,
   "id": "ae696eff",
   "metadata": {},
   "outputs": [
    {
     "name": "stdout",
     "output_type": "stream",
     "text": [
      "45:amit\n",
      "59:rahul\n",
      "age:18\n",
      "weight:55\n"
     ]
    }
   ],
   "source": [
    "d3={45:\"amit\",59:\"rahul\",\"age\":\"18\",\"weight\":55}\n",
    "for i in d3:\n",
    "#     print(i)    \n",
    "#     print(d3[i])\n",
    "    print(i,\":\",d3[i],sep='')"
   ]
  },
  {
   "cell_type": "code",
   "execution_count": 7,
   "id": "89d24c4c",
   "metadata": {},
   "outputs": [
    {
     "name": "stdout",
     "output_type": "stream",
     "text": [
      "hello jimmy\n",
      "hello friends\n"
     ]
    }
   ],
   "source": [
    "# function:-\n",
    "def fun1():\n",
    "    print(\"hello jimmy\")\n",
    "    print(\"hello friends\")\n",
    "fun1()    \n",
    "# yaha pe function call hua hai jo upar banaya hai fuc1()"
   ]
  },
  {
   "cell_type": "code",
   "execution_count": 9,
   "id": "22f2973a",
   "metadata": {},
   "outputs": [
    {
     "name": "stdout",
     "output_type": "stream",
     "text": [
      "enter a number:5\n",
      "enter a number:5\n",
      "addition is: 10\n"
     ]
    }
   ],
   "source": [
    "def add():\n",
    "    x=int(input(\"enter a number:\"))\n",
    "    y=int(input(\"enter a number:\"))\n",
    "    z=x+y\n",
    "    print(\"addition is:\",z)\n",
    "add()"
   ]
  },
  {
   "cell_type": "code",
   "execution_count": 11,
   "id": "235aee80",
   "metadata": {},
   "outputs": [
    {
     "name": "stdout",
     "output_type": "stream",
     "text": [
      "enter the first numbers:5\n",
      "enter second numbers:5\n",
      "Additon is : 10\n"
     ]
    }
   ],
   "source": [
    "def add(p,q):\n",
    "#     function definition\n",
    "#     jo recieve krta hi un parameters(actual) ko unhe  formal parameter kehte hai\n",
    "\n",
    "    z=p+q\n",
    "    print(\"Additon is :\",z)\n",
    "x=int(input(\"enter the first numbers:\"))\n",
    "y=int(input(\"enter second numbers:\"))\n",
    "add(x,y)\n",
    "# function calling \n",
    "# jo parameter aap pass kr rhe ho x,y usko actual parameter kehte hai\n"
   ]
  },
  {
   "cell_type": "code",
   "execution_count": null,
   "id": "f6c08611",
   "metadata": {},
   "outputs": [],
   "source": []
  }
 ],
 "metadata": {
  "kernelspec": {
   "display_name": "Python 3 (ipykernel)",
   "language": "python",
   "name": "python3"
  },
  "language_info": {
   "codemirror_mode": {
    "name": "ipython",
    "version": 3
   },
   "file_extension": ".py",
   "mimetype": "text/x-python",
   "name": "python",
   "nbconvert_exporter": "python",
   "pygments_lexer": "ipython3",
   "version": "3.11.5"
  }
 },
 "nbformat": 4,
 "nbformat_minor": 5
}
