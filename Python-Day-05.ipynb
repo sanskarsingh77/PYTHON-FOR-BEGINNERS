{
 "cells": [
  {
   "cell_type": "code",
   "execution_count": 5,
   "id": "92149ecf",
   "metadata": {},
   "outputs": [
    {
     "name": "stdout",
     "output_type": "stream",
     "text": [
      "enter a pin:1234\n",
      "correct pin\n",
      "enter a amount to withdraw:1000\n",
      "transcation is in process\n"
     ]
    }
   ],
   "source": [
    "# while if use hua hai yaha for if bhi hota hai python me\n",
    "p=1234\n",
    "c=0\n",
    "amount=0\n",
    "while(c!=3):\n",
    "    c=c+1\n",
    "    pin=int(input(\"enter a pin:\"))\n",
    "    if(pin==p):\n",
    "        print(\"correct pin\")\n",
    "        int(input(\"enter a amount to withdraw:\"))\n",
    "        if(amount<10000):\n",
    "            print(\"transcation is in process\")\n",
    "        else:\n",
    "            print(\"maximum limit reached\")\n",
    "        break\n",
    "    else:\n",
    "        print(\"incorrect pin\")\n",
    "else:\n",
    "    print(\"card blocked\")"
   ]
  },
  {
   "cell_type": "code",
   "execution_count": 9,
   "id": "3601dbf3",
   "metadata": {},
   "outputs": [
    {
     "name": "stdout",
     "output_type": "stream",
     "text": [
      "{'1': 'boss', '2': 'jatin', '3': 'viru'}\n",
      "{'one': 'aryan', 'two': 'ajay', 'three': 'raj', 'four': 'jai'}\n"
     ]
    }
   ],
   "source": [
    "d={\"1\":\"boss\",\"2\":\"jatin\",\"3\":\"viru\"}\n",
    "print(d)\n",
    "d1=dict(one=\"aryan\",two=\"ajay\",three=\"raj\",four=\"jai\")\n",
    "# key me hamesha string hona chahiye agar dictionary dict functionn use krke banna rhe hoto key me double quotes bhi  nhi lagana cmpiler khud hi laga deta hai\n",
    "\n",
    "print(d1)"
   ]
  },
  {
   "cell_type": "code",
   "execution_count": 4,
   "id": "ae696eff",
   "metadata": {},
   "outputs": [
    {
     "name": "stdout",
     "output_type": "stream",
     "text": [
      "45:amit\n",
      "59:rahul\n",
      "age:18\n",
      "weight:55\n"
     ]
    }
   ],
   "source": [
    "d3={45:\"amit\",59:\"rahul\",\"age\":\"18\",\"weight\":55}\n",
    "for i in d3:\n",
    "#     print(i)    \n",
    "#     print(d3[i])\n",
    "    print(i,\":\",d3[i],sep='')"
   ]
  },
  {
   "cell_type": "code",
   "execution_count": 7,
   "id": "a30e2397",
   "metadata": {},
   "outputs": [
    {
     "name": "stdout",
     "output_type": "stream",
     "text": [
      "hello jimmy\n",
      "hello friends\n"
     ]
    }
   ],
   "source": [
    "# function:-\n",
    "def fun1():\n",
    "    print(\"hello jimmy\")\n",
    "    print(\"hello friends\")\n",
    "fun1()    \n",
    "# yaha pe function call hua hai jo upar banaya hai fuc1()"
   ]
  },
  {
   "cell_type": "code",
   "execution_count": 9,
   "id": "4cc3bba1",
   "metadata": {},
   "outputs": [
    {
     "name": "stdout",
     "output_type": "stream",
     "text": [
      "enter a number:5\n",
      "enter a number:5\n",
      "addition is: 10\n"
     ]
    }
   ],
   "source": [
    "def add():\n",
    "    x=int(input(\"enter a number:\"))\n",
    "    y=int(input(\"enter a number:\"))\n",
    "    z=x+y\n",
    "    print(\"addition is:\",z)\n",
    "add()"
   ]
  },
  {
   "cell_type": "code",
   "execution_count": 11,
   "id": "05fc83f0",
   "metadata": {},
   "outputs": [
    {
     "name": "stdout",
     "output_type": "stream",
     "text": [
      "enter the first numbers:5\n",
      "enter second numbers:5\n",
      "Additon is : 10\n"
     ]
    }
   ],
   "source": [
    "def add(p,q):\n",
    "#     function definition\n",
    "#     jo recieve krta hi un parameters(actual) ko unhe  formal parameter kehte hai\n",
    "\n",
    "    z=p+q\n",
    "    print(\"Additon is :\",z)\n",
    "x=int(input(\"enter the first numbers:\"))\n",
    "y=int(input(\"enter second numbers:\"))\n",
    "add(x,y)\n",
    "# function calling \n",
    "# jo parameter aap pass kr rhe ho x,y usko actual parameter kehte hai\n"
   ]
  },
  {
   "cell_type": "code",
   "execution_count": 13,
   "id": "33f36d64",
   "metadata": {},
   "outputs": [
    {
     "name": "stdout",
     "output_type": "stream",
     "text": [
      "enter firsts number:5\n",
      "enter second number:85\n",
      "Addition is 90\n"
     ]
    }
   ],
   "source": [
    "def add(p,q):\n",
    "    z=p+q\n",
    "    return z\n",
    "x=int(input(\"enter firsts number:\"))\n",
    "y=int(input(\"enter second number:\"))\n",
    "result=add(x,y)\n",
    "print(\"Addition is\",result)\n"
   ]
  },
  {
   "cell_type": "code",
   "execution_count": 14,
   "id": "438883d0",
   "metadata": {},
   "outputs": [
    {
     "name": "stdout",
     "output_type": "stream",
     "text": [
      "enter firsts number:5\n",
      "enter second number:5\n",
      "Adiition is: 10\n",
      "Addition is None\n"
     ]
    }
   ],
   "source": [
    "def add(p,q):\n",
    "    z=p+q\n",
    "    print(\"Adiition is:\",z)\n",
    "#     return z\n",
    "x=int(input(\"enter firsts number:\"))\n",
    "y=int(input(\"enter second number:\"))\n",
    "result=add(x,y)\n",
    "print(\"Addition is\",result)\n",
    "# addition is none isliye aya kyoki humne kuch return nhi karaya agar c progammming hoti to error ajata lekin python me addition is none ajayega none datatype ke sath\n"
   ]
  },
  {
   "cell_type": "code",
   "execution_count": 21,
   "id": "5e2a87af",
   "metadata": {},
   "outputs": [
    {
     "name": "stdout",
     "output_type": "stream",
     "text": [
      "5\n",
      "12\n"
     ]
    }
   ],
   "source": [
    "def fun1(x,y):\n",
    "    print(x+y)\n",
    "def fun2(p,q,r):\n",
    "    print(p+q+r)\n",
    "    \n",
    "fun1(2,3)\n",
    "fun2(2,6,4)\n",
    "# agar dono function ka name same hai to latest vala banega "
   ]
  },
  {
   "cell_type": "code",
   "execution_count": 25,
   "id": "2de13ea5",
   "metadata": {},
   "outputs": [
    {
     "name": "stdout",
     "output_type": "stream",
     "text": [
      "8\n"
     ]
    }
   ],
   "source": [
    "def fun1(x,y,z=0):\n",
    "    print(x+y+z)\n",
    "fun1(2,6)"
   ]
  },
  {
   "cell_type": "code",
   "execution_count": 26,
   "id": "334ab681",
   "metadata": {},
   "outputs": [
    {
     "name": "stdout",
     "output_type": "stream",
     "text": [
      "(10,)\n",
      "[10]\n",
      "(10, 20)\n",
      "[10, 20]\n",
      "(10, 20, 30)\n",
      "[10, 20, 30]\n",
      "(10, 20, 30, 40, 50, 60, 70, 80, 90, 100, 110, 120, 130, 140, 150, 160, 170)\n",
      "[10, 20, 30, 40, 50, 60, 70, 80, 90, 100, 110, 120, 130, 140, 150, 160, 170]\n"
     ]
    }
   ],
   "source": [
    "def fun1(*g):\n",
    "    print(g)\n",
    "    h=list(g)\n",
    "    print(h)\n",
    "# pehle yeh sab tuple me convert hote g* use krne se lekin tuple me koi bhi properties  like sorting an all use nhi hoti\n",
    "# to humne pehle isko llist me convert kr liya ab kr sakte hai saare properties\n",
    "\n",
    "fun1(10)\n",
    "fun1(10,20)\n",
    "fun1(10,20,30)\n",
    "fun1(10,20,30,40,50,60,70,80,90,100,110,120,130,140,150,160,170)\n"
   ]
  },
  {
   "cell_type": "code",
   "execution_count": null,
   "id": "a23880bd",
   "metadata": {},
   "outputs": [],
   "source": []
  }
 ],
 "metadata": {
  "kernelspec": {
   "display_name": "Python 3 (ipykernel)",
   "language": "python",
   "name": "python3"
  },
  "language_info": {
   "codemirror_mode": {
    "name": "ipython",
    "version": 3
   },
   "file_extension": ".py",
   "mimetype": "text/x-python",
   "name": "python",
   "nbconvert_exporter": "python",
   "pygments_lexer": "ipython3",
   "version": "3.11.5"
  }
 },
 "nbformat": 4,
 "nbformat_minor": 5
}
