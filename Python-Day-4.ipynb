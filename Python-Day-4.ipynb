{
 "cells": [
  {
   "cell_type": "code",
   "execution_count": 1,
   "id": "28d04823",
   "metadata": {},
   "outputs": [
    {
     "name": "stdout",
     "output_type": "stream",
     "text": [
      "enter the number5\n",
      "5 :number is odd\n"
     ]
    }
   ],
   "source": [
    "# wap to check whetther a given number is odd or  even\n",
    "x=int(input(\"enter the number\"))\n",
    "if x%2==0:\n",
    "    print(x,\":number is even\")\n",
    "else:\n",
    "    print(x,\":number is odd\")"
   ]
  },
  {
   "cell_type": "code",
   "execution_count": 13,
   "id": "60cfaa15",
   "metadata": {},
   "outputs": [
    {
     "name": "stdout",
     "output_type": "stream",
     "text": [
      "11\n",
      "22\n",
      "85\n",
      "91\n",
      "ss\n",
      "(6+4j)\n",
      "56\n"
     ]
    }
   ],
   "source": [
    "# list\n",
    "g1=[11,22,85,91,\"ss\",6+4j]\n",
    "g1.append(56)\n",
    "# append use krne se kisi list me element list ke end me insert ho jata hai\n",
    "# del g1\n",
    "# del g1 krne se g1 delete ho jayega\n",
    "# g1.clear()\n",
    "# clear krne se list empty ho jaega lekin delete nhi hoga\n",
    "for i in g1:\n",
    "    print(i)\n",
    " "
   ]
  },
  {
   "cell_type": "code",
   "execution_count": 20,
   "id": "cdadab6b",
   "metadata": {},
   "outputs": [
    {
     "name": "stdout",
     "output_type": "stream",
     "text": [
      "65\n",
      "1\n",
      "6\n",
      "5\n"
     ]
    }
   ],
   "source": [
    "# sorting in list\n",
    "x=[12,65,78,1,6,5]\n",
    "# x.sort()\n",
    "# x.reverse()\n",
    "x.remove(78)\n",
    "# remove me value batani padti  hai\n",
    "x.pop(0)\n",
    "# pop me index btana padta hai\n",
    "for i in x:\n",
    "    print(i)\n",
    "# isme sort hamesha asecending order me hoga\n",
    "# agar desending me krna hai to reverse use krlo"
   ]
  },
  {
   "cell_type": "code",
   "execution_count": 22,
   "id": "b35f1eb4",
   "metadata": {},
   "outputs": [
    {
     "name": "stdout",
     "output_type": "stream",
     "text": [
      "44\n",
      "64\n",
      "100\n",
      "42\n",
      "43\n",
      "22\n",
      "5\n"
     ]
    }
   ],
   "source": [
    "g1=[44,64,42,43,22,5]\n",
    "g1.insert(2,100)\n",
    "for i in g1:\n",
    "    print(i)\n",
    "# insert(index,value)\n",
    "# insert kisi data ko list ke beechh me dalne ke liye use hota  hai"
   ]
  },
  {
   "cell_type": "code",
   "execution_count": null,
   "id": "d21dcf34",
   "metadata": {},
   "outputs": [],
   "source": []
  }
 ],
 "metadata": {
  "kernelspec": {
   "display_name": "Python 3 (ipykernel)",
   "language": "python",
   "name": "python3"
  },
  "language_info": {
   "codemirror_mode": {
    "name": "ipython",
    "version": 3
   },
   "file_extension": ".py",
   "mimetype": "text/x-python",
   "name": "python",
   "nbconvert_exporter": "python",
   "pygments_lexer": "ipython3",
   "version": "3.11.5"
  }
 },
 "nbformat": 4,
 "nbformat_minor": 5
}
