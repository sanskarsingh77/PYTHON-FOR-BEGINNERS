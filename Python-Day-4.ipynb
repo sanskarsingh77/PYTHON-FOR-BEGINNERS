{
 "cells": [
  {
   "cell_type": "code",
   "execution_count": 1,
   "id": "325738d2",
   "metadata": {},
   "outputs": [
    {
     "name": "stdout",
     "output_type": "stream",
     "text": [
      "enter the number5\n",
      "5 :number is odd\n"
     ]
    }
   ],
   "source": [
    "# wap to check whetther a given number is odd or  even\n",
    "x=int(input(\"enter the number\"))\n",
    "if x%2==0:\n",
    "    print(x,\":number is even\")\n",
    "else:\n",
    "    print(x,\":number is odd\")"
   ]
  },
  {
   "cell_type": "code",
   "execution_count": 13,
   "id": "91e152f0",
   "metadata": {},
   "outputs": [
    {
     "name": "stdout",
     "output_type": "stream",
     "text": [
      "11\n",
      "22\n",
      "85\n",
      "91\n",
      "ss\n",
      "(6+4j)\n",
      "56\n"
     ]
    }
   ],
   "source": [
    "# list\n",
    "g1=[11,22,85,91,\"ss\",6+4j]\n",
    "g1.append(56)\n",
    "# append use krne se kisi list me element list ke end me insert ho jata hai\n",
    "# del g1\n",
    "# del g1 krne se g1 delete ho jayega\n",
    "# g1.clear()\n",
    "# clear krne se list empty ho jaega lekin delete nhi hoga\n",
    "for i in g1:\n",
    "    print(i)\n",
    " "
   ]
  },
  {
   "cell_type": "code",
   "execution_count": 20,
   "id": "252c93c2",
   "metadata": {},
   "outputs": [
    {
     "name": "stdout",
     "output_type": "stream",
     "text": [
      "65\n",
      "1\n",
      "6\n",
      "5\n"
     ]
    }
   ],
   "source": [
    "# sorting in list\n",
    "x=[12,65,78,1,6,5]\n",
    "# x.sort()\n",
    "# x.reverse()\n",
    "x.remove(78)\n",
    "# remove me value batani padti  hai\n",
    "x.pop(0)\n",
    "# pop me index btana padta hai\n",
    "for i in x:\n",
    "    print(i)\n",
    "# isme sort hamesha asecending order me hoga\n",
    "# agar desending me krna hai to reverse use krlo"
   ]
  },
  {
   "cell_type": "code",
   "execution_count": 22,
   "id": "2b381859",
   "metadata": {},
   "outputs": [
    {
     "name": "stdout",
     "output_type": "stream",
     "text": [
      "44\n",
      "64\n",
      "100\n",
      "42\n",
      "43\n",
      "22\n",
      "5\n"
     ]
    }
   ],
   "source": [
    "g1=[44,64,42,43,22,5]\n",
    "g1.insert(2,100)\n",
    "for i in g1:\n",
    "    print(i)\n",
    "# insert(index,value)\n",
    "# insert kisi data ko list ke beechh me dalne ke liye use hota  hai"
   ]
  },
  {
   "cell_type": "code",
   "execution_count": 31,
   "id": "ef1cecb0",
   "metadata": {},
   "outputs": [
    {
     "name": "stdout",
     "output_type": "stream",
     "text": [
      "2\n"
     ]
    }
   ],
   "source": [
    "# to find index of an element in list\n",
    "g1=[55,86,874,21,645]\n",
    "print(g1.index(874))\n",
    "g2=g1\n",
    "g2=g1.copy()\n"
   ]
  },
  {
   "cell_type": "code",
   "execution_count": 38,
   "id": "823e1583",
   "metadata": {},
   "outputs": [
    {
     "name": "stdout",
     "output_type": "stream",
     "text": [
      "[7, 5, 4, 2, 49, 88]\n",
      "15\n"
     ]
    },
    {
     "data": {
      "text/plain": [
       "[15, 76, 66, 88, 49, 2, 4, 5, 7, 6]"
      ]
     },
     "execution_count": 38,
     "metadata": {},
     "output_type": "execute_result"
    }
   ],
   "source": [
    "h1=[6,7,5,4,2,49,88,66,76,15]\n",
    "#  slicing operator-slice mtlb becch se kuch part uthana \n",
    "# [start:stop:steps]\n",
    "p=h1[1:7:1]\n",
    "print(p)\n",
    "h1[3::]\n",
    "# h1[3::] isski help se hum 3 index ke element se aage ke saare element slice kr skate hai\n",
    "\n",
    "print(h1[-1])\n",
    "h1[-1::-1]\n",
    "# yeh use kreke hum reverse kr skate haih1 ko\n",
    "\n"
   ]
  },
  {
   "cell_type": "code",
   "execution_count": 45,
   "id": "c8acc928",
   "metadata": {},
   "outputs": [
    {
     "data": {
      "text/plain": [
       "'raksnas'"
      ]
     },
     "execution_count": 45,
     "metadata": {},
     "output_type": "execute_result"
    }
   ],
   "source": [
    "x=\"sanskar\"\n",
    "x[1]\n",
    "# yeh print ho rha mtlb index yaha bhi hai mtlb slicing yaha bi work krega\n",
    "x[0:5:1]\n",
    "x[-1::-1]"
   ]
  },
  {
   "cell_type": "code",
   "execution_count": 54,
   "id": "0108880a",
   "metadata": {},
   "outputs": [
    {
     "name": "stdout",
     "output_type": "stream",
     "text": [
      "[44, 55, 1, 8, 100]\n",
      "[1, 8, 44, 55, 100]\n",
      "(1, 8, 44, 55, 100)\n"
     ]
    }
   ],
   "source": [
    "t1=(44,55,1,8,100)\n",
    "# t1 ek tuple hai aur tuple me tm sort nhi  krsakte kyokib tuple ke pas sort property nhi hoti ti tmhe sort krne ke liye tuple ko list me convert krna hota hai\n",
    "\n",
    "t2=list(t1)\n",
    "print(t2)\n",
    "t2.sort()\n",
    "print(t2)\n",
    "# sort ho gaya t2\n",
    "t1=tuple(t2)\n",
    "print(t1)\n",
    "# last me list ko tuple me change kr diya\n",
    "\n",
    "\n"
   ]
  },
  {
   "cell_type": "code",
   "execution_count": 56,
   "id": "11df5ca8",
   "metadata": {},
   "outputs": [
    {
     "data": {
      "text/plain": [
       "tuple"
      ]
     },
     "execution_count": 56,
     "metadata": {},
     "output_type": "execute_result"
    }
   ],
   "source": [
    "#in tu,ple can not change  data\n",
    "t1 =(5,8,1,3,45)\n",
    "# t1[0]=10\n",
    "# it will give error because we cannot update a tuple if it is created4\n",
    "u1=6,7,5,999,45\n",
    "# hum tuple ko bina bracket lagaye bhi likh skate hai\n",
    "type(u1)\n"
   ]
  }
 ],
 "metadata": {
  "kernelspec": {
   "display_name": "Python 3 (ipykernel)",
   "language": "python",
   "name": "python3"
  },
  "language_info": {
   "codemirror_mode": {
    "name": "ipython",
    "version": 3
   },
   "file_extension": ".py",
   "mimetype": "text/x-python",
   "name": "python",
   "nbconvert_exporter": "python",
   "pygments_lexer": "ipython3",
   "version": "3.11.5"
  }
 },
 "nbformat": 4,
 "nbformat_minor": 5
}
