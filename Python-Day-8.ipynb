{
 "cells": [
  {
   "cell_type": "code",
   "execution_count": 1,
   "id": "0a5c2436",
   "metadata": {},
   "outputs": [
    {
     "name": "stdout",
     "output_type": "stream",
     "text": [
      "enter 3 data:5 6 6\n",
      "5 6 6 <class 'int'>\n"
     ]
    }
   ],
   "source": [
    "x,y,z=[eval(g) for g in input(\"enter 3 data:\").split()]\n",
    "print(x,y,z,type(x))\n"
   ]
  },
  {
   "cell_type": "code",
   "execution_count": 8,
   "id": "1cd7095f",
   "metadata": {},
   "outputs": [
    {
     "name": "stdout",
     "output_type": "stream",
     "text": [
      "enter 3 data:4 5 6 \n",
      "4 5 6 <class 'int'>\n"
     ]
    }
   ],
   "source": [
    "x,y,z=list([eval(g) for g in input(\"enter 3 data:\").split()])\n",
    "print(x,y,z,type(x))\n"
   ]
  },
  {
   "cell_type": "code",
   "execution_count": 4,
   "id": "d61bc426",
   "metadata": {},
   "outputs": [
    {
     "name": "stdout",
     "output_type": "stream",
     "text": [
      "enter the data:57 5 4\n",
      "(57, 5, 4) <class 'tuple'>\n"
     ]
    }
   ],
   "source": [
    "t1=tuple([eval(g) for g in input(\"enter the data:\").split()])\n",
    "print(t1,type(t1))"
   ]
  },
  {
   "cell_type": "code",
   "execution_count": 10,
   "id": "2ff38fe6",
   "metadata": {},
   "outputs": [
    {
     "name": "stdout",
     "output_type": "stream",
     "text": [
      "enter key:1\n",
      "enter a value:ram\n",
      "enter key:2\n",
      "enter a value:lakshman\n",
      "enter key:3\n",
      "enter a value:hanuman\n",
      "{'1': 'ram', '2': 'lakshman', '3': 'hanuman'}\n"
     ]
    }
   ],
   "source": [
    "d1={input(\"enter key:\"):input(\"enter a value:\") for x in range (3)}\n",
    "print(d1)"
   ]
  },
  {
   "cell_type": "code",
   "execution_count": 13,
   "id": "20c3bfdf",
   "metadata": {},
   "outputs": [
    {
     "name": "stdout",
     "output_type": "stream",
     "text": [
      "{'ajay': 22, 'vijay': 7, 'raj': 8} <class 'dict'>\n",
      "{'name': 'rakesh', 'age': 18, 'height': 175, 'roll': 32, 'num': 'number'} <class 'dict'>\n"
     ]
    }
   ],
   "source": [
    "# variable length keyword arguments\n",
    "def fun1(**k):\n",
    "        print(k,type(k))\n",
    "fun1(ajay=22,vijay=7,raj=8)\n",
    "fun1(name=\"rakesh\",age=18,height=175,roll=32,num=\"number\")"
   ]
  },
  {
   "cell_type": "code",
   "execution_count": 4,
   "id": "c8f39185",
   "metadata": {},
   "outputs": [
    {
     "name": "stdout",
     "output_type": "stream",
     "text": [
      "enter first number:5\n",
      "enter second number:0\n",
      "both entered data are of different datatype\n",
      "bye\n"
     ]
    }
   ],
   "source": [
    "# expception handling \n",
    "x=input(\"enter first number:\")\n",
    "y=int(input(\"enter second number:\"))\n",
    "try:\n",
    "    z=x/y\n",
    "    print(z)\n",
    "# try se exception handling ho jati hai aur except se hum uss exception ko solve kr dete hai\n",
    "# jis line ke andar lagta hai error ane vala hai usko try ke andar likhte hai\n",
    "except ZeroDivisionError:\n",
    "    print(\"why are you diving with zero\")\n",
    "except TypeError:\n",
    "    print(\"both entered data are of different datatype\")\n",
    "print(\"bye\")\n",
    "# issne sove kr diya exception kyoki apne bta  ke rakha hai yhe ho to yeh kr dena "
   ]
  },
  {
   "cell_type": "code",
   "execution_count": null,
   "id": "b7ff5e8b",
   "metadata": {},
   "outputs": [],
   "source": [
    "currrent_balance=10000\n",
    "withdraw_balance=int(input(\"enter amount to withdraw\"))\n",
    "try:\n",
    "    if(currrent_balance>withdraw_balance):\n",
    "        raise ValueError()"
   ]
  }
 ],
 "metadata": {
  "kernelspec": {
   "display_name": "Python 3 (ipykernel)",
   "language": "python",
   "name": "python3"
  },
  "language_info": {
   "codemirror_mode": {
    "name": "ipython",
    "version": 3
   },
   "file_extension": ".py",
   "mimetype": "text/x-python",
   "name": "python",
   "nbconvert_exporter": "python",
   "pygments_lexer": "ipython3",
   "version": "3.11.5"
  }
 },
 "nbformat": 4,
 "nbformat_minor": 5
}
