{
 "cells": [
  {
   "cell_type": "code",
   "execution_count": 1,
   "id": "591cfc23",
   "metadata": {},
   "outputs": [
    {
     "name": "stdout",
     "output_type": "stream",
     "text": [
      "enter 3 data:5 6 7\n",
      "5 6 7 <class 'int'>\n"
     ]
    }
   ],
   "source": [
    "x,y,z=[eval(g) for g in input(\"enter 3 data:\").split()]\n",
    "print(x,y,z,type(x))"
   ]
  },
  {
   "cell_type": "code",
   "execution_count": 2,
   "id": "77d99252",
   "metadata": {},
   "outputs": [
    {
     "name": "stdout",
     "output_type": "stream",
     "text": [
      "enter 3 data:7 8 6\n",
      "7 8 6 <class 'int'>\n"
     ]
    }
   ],
   "source": [
    "x,y,z=list([eval(g) for g in input(\"enter 3 data:\").split()])\n",
    "print(x,y,z,type(x))"
   ]
  }
 ],
 "metadata": {
  "kernelspec": {
   "display_name": "Python 3 (ipykernel)",
   "language": "python",
   "name": "python3"
  },
  "language_info": {
   "codemirror_mode": {
    "name": "ipython",
    "version": 3
   },
   "file_extension": ".py",
   "mimetype": "text/x-python",
   "name": "python",
   "nbconvert_exporter": "python",
   "pygments_lexer": "ipython3",
   "version": "3.11.5"
  }
 },
 "nbformat": 4,
 "nbformat_minor": 5
}
