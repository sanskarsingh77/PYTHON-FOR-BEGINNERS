{
 "cells": [
  {
   "cell_type": "code",
   "execution_count": 1,
   "id": "8ebf7a1f",
   "metadata": {},
   "outputs": [
    {
     "name": "stdout",
     "output_type": "stream",
     "text": [
      "enter 3 data:5 6 6\n",
      "5 6 6 <class 'int'>\n"
     ]
    }
   ],
   "source": [
    "x,y,z=[eval(g) for g in input(\"enter 3 data:\").split()]\n",
    "print(x,y,z,type(x))\n"
   ]
  },
  {
   "cell_type": "code",
   "execution_count": 8,
   "id": "e0dc9da6",
   "metadata": {},
   "outputs": [
    {
     "name": "stdout",
     "output_type": "stream",
     "text": [
      "enter 3 data:4 5 6 \n",
      "4 5 6 <class 'int'>\n"
     ]
    }
   ],
   "source": [
    "x,y,z=list([eval(g) for g in input(\"enter 3 data:\").split()])\n",
    "print(x,y,z,type(x))\n"
   ]
  },
  {
   "cell_type": "code",
   "execution_count": 4,
   "id": "302d49ec",
   "metadata": {},
   "outputs": [
    {
     "name": "stdout",
     "output_type": "stream",
     "text": [
      "enter the data:57 5 4\n",
      "(57, 5, 4) <class 'tuple'>\n"
     ]
    }
   ],
   "source": [
    "t1=tuple([eval(g) for g in input(\"enter the data:\").split()])\n",
    "print(t1,type(t1))"
   ]
  },
  {
   "cell_type": "code",
   "execution_count": 10,
   "id": "c11822e9",
   "metadata": {},
   "outputs": [
    {
     "name": "stdout",
     "output_type": "stream",
     "text": [
      "enter key:1\n",
      "enter a value:ram\n",
      "enter key:2\n",
      "enter a value:lakshman\n",
      "enter key:3\n",
      "enter a value:hanuman\n",
      "{'1': 'ram', '2': 'lakshman', '3': 'hanuman'}\n"
     ]
    }
   ],
   "source": [
    "d1={input(\"enter key:\"):input(\"enter a value:\") for x in range (3)}\n",
    "print(d1)"
   ]
  },
  {
   "cell_type": "code",
   "execution_count": null,
   "id": "0c3ff0b5",
   "metadata": {},
   "outputs": [],
   "source": []
  }
 ],
 "metadata": {
  "kernelspec": {
   "display_name": "Python 3 (ipykernel)",
   "language": "python",
   "name": "python3"
  },
  "language_info": {
   "codemirror_mode": {
    "name": "ipython",
    "version": 3
   },
   "file_extension": ".py",
   "mimetype": "text/x-python",
   "name": "python",
   "nbconvert_exporter": "python",
   "pygments_lexer": "ipython3",
   "version": "3.11.5"
  }
 },
 "nbformat": 4,
 "nbformat_minor": 5
}
