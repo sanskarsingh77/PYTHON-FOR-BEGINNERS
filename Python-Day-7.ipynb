{
 "cells": [
  {
   "cell_type": "code",
   "execution_count": 3,
   "id": "ff59be51",
   "metadata": {},
   "outputs": [
    {
     "name": "stdout",
     "output_type": "stream",
     "text": [
      "enter starting number:5\n",
      "enter ending number :21\n",
      "5 7 11 13 17 19 \n",
      "\n",
      "24\n"
     ]
    }
   ],
   "source": [
    "# WAP to find sum of mid element of the prime nummber list between starting and ending point\n",
    "\n",
    "p=int(input(\"enter starting number:\"))\n",
    "q=int(input(\"enter ending number :\"))\n",
    "h=[]\n",
    "for x in range(p,q):\n",
    "    for i in range(2,x):\n",
    "        if x%i==0:\n",
    "            break\n",
    "    else:\n",
    "        print(x,end=' ')\n",
    "        h.append(x)\n",
    "print()\n",
    "print()\n",
    "length=len(h)\n",
    "mid=length//2\n",
    "# double //     \n",
    "print(h[mid]+h[mid-1])"
   ]
  },
  {
   "cell_type": "code",
   "execution_count": 1,
   "id": "a2878899",
   "metadata": {},
   "outputs": [
    {
     "name": "stdout",
     "output_type": "stream",
     "text": [
      "13\n"
     ]
    }
   ],
   "source": [
    "print(eval(\"6+7\"))\n",
    "# eval string ko bhi barabar evaluate krta hai"
   ]
  },
  {
   "cell_type": "code",
   "execution_count": 5,
   "id": "cc9914f3",
   "metadata": {},
   "outputs": [
    {
     "name": "stdout",
     "output_type": "stream",
     "text": [
      "enter a number:75.5\n",
      "75.5 <class 'float'>\n"
     ]
    }
   ],
   "source": [
    "x=eval(input(\"enter a number:\"))\n",
    "print(x,type(x))"
   ]
  },
  {
   "cell_type": "code",
   "execution_count": 6,
   "id": "dc1b8c6e",
   "metadata": {},
   "outputs": [
    {
     "name": "stdout",
     "output_type": "stream",
     "text": [
      "enter a number:6+8j\n",
      "(6+8j) <class 'complex'>\n"
     ]
    }
   ],
   "source": [
    "x=eval(input(\"enter a number:\"))\n",
    "print(x,type(x))\n",
    "# eval input ke according adjust kr leta hai apne aap ko"
   ]
  },
  {
   "cell_type": "code",
   "execution_count": 11,
   "id": "66dcb825",
   "metadata": {},
   "outputs": [
    {
     "name": "stdout",
     "output_type": "stream",
     "text": [
      "enter the number:56\n",
      "enter the number:645\n",
      "56 645\n",
      "enter three numbers5 6 2\n",
      "5 6 2\n"
     ]
    }
   ],
   "source": [
    "x,y=input(\"enter the number:\"),input(\"enter the number:\")\n",
    "print(x,y,)\n",
    "x,y,z=input(\"enter three numbers\").split(' ')\n",
    "print(x,y,z)\n",
    "# split use krne se aap input le sakte  hai lekin jo input me hoga usee hi apko ek data se durse data me jaane ke press krna hoga jaise three number input ek number input krne ke baad hame  space ka use krna pad rha tha \n"
   ]
  },
  {
   "cell_type": "code",
   "execution_count": 12,
   "id": "0215da5a",
   "metadata": {},
   "outputs": [
    {
     "name": "stdout",
     "output_type": "stream",
     "text": [
      "tell me about yourselfalways spread postivity\n",
      "['always', 'spread', 'postivity']\n"
     ]
    }
   ],
   "source": [
    "x=input(\"tell me about yourself\")\n",
    "y=x.split()\n",
    "print(y)\n",
    "# split humsa list bana deta hai"
   ]
  }
 ],
 "metadata": {
  "kernelspec": {
   "display_name": "Python 3 (ipykernel)",
   "language": "python",
   "name": "python3"
  },
  "language_info": {
   "codemirror_mode": {
    "name": "ipython",
    "version": 3
   },
   "file_extension": ".py",
   "mimetype": "text/x-python",
   "name": "python",
   "nbconvert_exporter": "python",
   "pygments_lexer": "ipython3",
   "version": "3.11.5"
  }
 },
 "nbformat": 4,
 "nbformat_minor": 5
}
