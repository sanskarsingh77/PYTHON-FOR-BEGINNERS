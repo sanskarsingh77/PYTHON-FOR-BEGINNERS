{
 "cells": [
  {
   "cell_type": "code",
   "execution_count": 3,
   "id": "ff59be51",
   "metadata": {},
   "outputs": [
    {
     "name": "stdout",
     "output_type": "stream",
     "text": [
      "enter starting number:5\n",
      "enter ending number :21\n",
      "5 7 11 13 17 19 \n",
      "\n",
      "24\n"
     ]
    }
   ],
   "source": [
    "# WAP to find sum of mid element of the prime nummber list between starting and ending point\n",
    "\n",
    "p=int(input(\"enter starting number:\"))\n",
    "q=int(input(\"enter ending number :\"))\n",
    "h=[]\n",
    "for x in range(p,q):\n",
    "    for i in range(2,x):\n",
    "        if x%i==0:\n",
    "            break\n",
    "    else:\n",
    "        print(x,end=' ')\n",
    "        h.append(x)\n",
    "print()\n",
    "print()\n",
    "length=len(h)\n",
    "mid=length//2\n",
    "# double //     \n",
    "print(h[mid]+h[mid-1])"
   ]
  }
 ],
 "metadata": {
  "kernelspec": {
   "display_name": "Python 3 (ipykernel)",
   "language": "python",
   "name": "python3"
  },
  "language_info": {
   "codemirror_mode": {
    "name": "ipython",
    "version": 3
   },
   "file_extension": ".py",
   "mimetype": "text/x-python",
   "name": "python",
   "nbconvert_exporter": "python",
   "pygments_lexer": "ipython3",
   "version": "3.11.5"
  }
 },
 "nbformat": 4,
 "nbformat_minor": 5
}
