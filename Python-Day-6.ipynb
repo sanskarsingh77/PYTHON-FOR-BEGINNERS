{
 "cells": [
  {
   "cell_type": "code",
   "execution_count": 3,
   "id": "cb5a1de5",
   "metadata": {},
   "outputs": [
    {
     "name": "stdout",
     "output_type": "stream",
     "text": [
      "ABBB\n",
      "ABBB\n",
      "ABBB\n",
      "ABBB\n",
      "ABBB\n"
     ]
    }
   ],
   "source": [
    "#PATTERN\n",
    "for i in range(5):\n",
    "    print(\"A\",end='')\n",
    "    for j in range(3):\n",
    "        print(\"B\",end='')\n",
    "    print()    "
   ]
  },
  {
   "cell_type": "code",
   "execution_count": 7,
   "id": "feae805c",
   "metadata": {},
   "outputs": [
    {
     "name": "stdout",
     "output_type": "stream",
     "text": [
      "*****\n",
      "*****\n",
      "*****\n",
      "*****\n",
      "*****\n"
     ]
    }
   ],
   "source": [
    "\n",
    "for i in range(5):\n",
    "    for j in range(5):\n",
    "        print(\"*\",end='')\n",
    "    print()    "
   ]
  },
  {
   "cell_type": "code",
   "execution_count": 9,
   "id": "bd788f9c",
   "metadata": {
    "scrolled": true
   },
   "outputs": [
    {
     "name": "stdout",
     "output_type": "stream",
     "text": [
      "\n",
      "*\n",
      "**\n",
      "***\n",
      "****\n",
      "*****\n"
     ]
    }
   ],
   "source": [
    "for i in range(6):\n",
    "    for j in range(i):\n",
    "        print(\"*\",end='')\n",
    "    print()"
   ]
  },
  {
   "cell_type": "code",
   "execution_count": 10,
   "id": "4985a3cd",
   "metadata": {},
   "outputs": [
    {
     "name": "stdout",
     "output_type": "stream",
     "text": [
      "*\n",
      "**\n",
      "***\n",
      "****\n",
      "*****\n"
     ]
    }
   ],
   "source": [
    "for i in range(1,6):\n",
    "    for j in  range(1,6):\n",
    "        if j<=i:\n",
    "            print(\"*\",end='')\n",
    "        else:\n",
    "            print('',end='')\n",
    "    print()"
   ]
  },
  {
   "cell_type": "code",
   "execution_count": 11,
   "id": "29583af4",
   "metadata": {},
   "outputs": [
    {
     "name": "stdout",
     "output_type": "stream",
     "text": [
      "*****\n",
      "****\n",
      "***\n",
      "**\n",
      "*\n"
     ]
    }
   ],
   "source": [
    "for i in range(1,6):\n",
    "    for j in  range(1,6):\n",
    "        if j>=i:\n",
    "            print(\"*\",end='')\n",
    "        else:\n",
    "            print('',end='')\n",
    "    print()"
   ]
  },
  {
   "cell_type": "code",
   "execution_count": 13,
   "id": "c3328b8f",
   "metadata": {},
   "outputs": [
    {
     "name": "stdout",
     "output_type": "stream",
     "text": [
      "*****\n",
      "****\n",
      "***\n",
      "**\n",
      "*\n"
     ]
    }
   ],
   "source": [
    "for i in range(1,6):\n",
    "    for j in  range(1,6):\n",
    "        if j<=6-i:\n",
    "            print(\"*\",end='')\n",
    "        else:\n",
    "            print('',end='')\n",
    "    print()"
   ]
  }
 ],
 "metadata": {
  "kernelspec": {
   "display_name": "Python 3 (ipykernel)",
   "language": "python",
   "name": "python3"
  },
  "language_info": {
   "codemirror_mode": {
    "name": "ipython",
    "version": 3
   },
   "file_extension": ".py",
   "mimetype": "text/x-python",
   "name": "python",
   "nbconvert_exporter": "python",
   "pygments_lexer": "ipython3",
   "version": "3.11.5"
  }
 },
 "nbformat": 4,
 "nbformat_minor": 5
}
